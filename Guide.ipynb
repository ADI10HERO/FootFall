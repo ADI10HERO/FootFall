{
 "cells": [
  {
   "cell_type": "markdown",
   "metadata": {
    "editable": false
   },
   "source": [
    "# Deploy a People Counter App at the Edge\n",
    "\n",
    "| Details            |              |\n",
    "|-----------------------|---------------|\n",
    "| Programming Language: |  Python 3.5 or 3.6 |\n",
    "\n",
    "![people-counter-python](./images/people-counter-image.png)"
   ]
  },
  {
   "cell_type": "markdown",
   "metadata": {
    "editable": false
   },
   "source": [
    "## What it Does\n",
    "\n",
    "The people counter application will demonstrate how to create a smart video IoT solution using Intel® hardware and software tools. The app will detect people in a designated area, providing the number of people in the frame, average duration of people in frame, and total count."
   ]
  },
  {
   "cell_type": "markdown",
   "metadata": {
    "editable": false
   },
   "source": [
    "## How it Works\n",
    "\n",
    "The counter will use the Inference Engine included in the Intel® Distribution of OpenVINO™ Toolkit. The model used should be able to identify people in a video frame. The app should count the number of people in the current frame, the duration that a person is in the frame (time elapsed between entering and exiting a frame) and the total count of people. It then sends the data to a local web server using the Paho MQTT Python package.\n",
    "\n",
    "You will choose a model to use and convert it with the Model Optimizer.\n",
    "\n",
    "![architectural diagram](./images/arch_diagram.png)"
   ]
  },
  {
   "cell_type": "markdown",
   "metadata": {
    "editable": false
   },
   "source": [
    "## Requirements\n",
    "\n",
    "### Hardware\n",
    "\n",
    "* 6th to 10th generation Intel® Core™ processor with Iris® Pro graphics or Intel® HD Graphics.\n",
    "* OR use of Intel® Neural Compute Stick 2 (NCS2)\n",
    "* OR Udacity classroom workspace for the related course\n",
    "\n",
    "### Software\n",
    "\n",
    "*   Intel® Distribution of OpenVINO™ toolkit 2019 R3 release\n",
    "*   Node v6.17.1\n",
    "*   Npm v3.10.10\n",
    "*   CMake\n",
    "*   MQTT Mosca server"
   ]
  },
  {
   "cell_type": "markdown",
   "metadata": {
    "editable": false
   },
   "source": [
    "<span style=\"color:blue\">\n",
    "<strong>Table of Contents</strong>\n",
    "  <li> Page 1: Overview and Requirements\n",
    "  <li> Page 2: Setup Instructions\n",
    "  <li> Page 3: What Model to Use\n",
    "  <li> Page 4: Running Your Code\n",
    "  <li> Page 5: Tips for Running Locally\n",
    "  <li> Page 6: Helper Page for Button\n",
    "</span>"
   ]
  },
  {
   "cell_type": "markdown",
   "metadata": {
    "editable": false
   },
   "source": [
    "<!--\n",
    "%%ulab_page_divider\n",
    "--><hr/>"
   ]
  },
  {
   "cell_type": "markdown",
   "metadata": {
    "editable": false
   },
   "source": [
    "## Setup\n",
    "\n",
    "**<span style=\"color:red\">\n",
    "You do not need to install the Toolkit or Node in the workspace as they come pre-installed; you can skip to \"Install npm\".\n",
    "</span>**\n",
    "\n",
    "### Install Intel® Distribution of OpenVINO™ toolkit\n",
    "\n",
    "Utilize the classroom workspace, or refer to the relevant instructions for your operating system for this step.\n",
    "\n",
    "- [Linux/Ubuntu](./linux-setup.md)\n",
    "- [Mac](./mac-setup.md)\n",
    "- [Windows](./windows-setup.md)\n",
    "\n",
    "### Install Nodejs and its dependencies\n",
    "\n",
    "Utilize the classroom workspace, or refer to the relevant instructions for your operating system for this step.\n",
    "\n",
    "- [Linux/Ubuntu](./linux-setup.md)\n",
    "- [Mac](./mac-setup.md)\n",
    "- [Windows](./windows-setup.md)\n",
    "\n",
    "### Install npm\n",
    "\n",
    "There are three components that need to be running in separate terminals for this application to work:\n",
    "\n",
    "-   MQTT Mosca server \n",
    "-   Node.js* Web server\n",
    "-   FFmpeg server\n",
    "     \n",
    "From the main directory:\n",
    "\n",
    "* For MQTT/Mosca server:\n",
    "   ```\n",
    "   cd webservice/server\n",
    "   npm install\n",
    "   ```\n",
    "\n",
    "* For Web server:\n",
    "  ```\n",
    "  cd ../ui\n",
    "  npm install\n",
    "  ```\n",
    "\n",
    "**Note:** If any configuration errors occur in mosca server or Web server while using **npm install**, use the below commands:\n",
    "  ```\n",
    "  sudo npm install npm -g \n",
    "  rm -rf node_modules\n",
    "  npm cache clean\n",
    "  npm config set registry \"http://registry.npmjs.org\"\n",
    "  npm install\n",
    "  ```"
   ]
  },
  {
   "cell_type": "markdown",
   "metadata": {
    "editable": false
   },
   "source": [
    "<span style=\"color:blue\">\n",
    "<strong>Table of Contents</strong>\n",
    "  <li> Page 1: Overview and Requirements\n",
    "  <li> Page 2: Setup Instructions\n",
    "  <li> Page 3: What Model to Use\n",
    "  <li> Page 4: Running Your Code\n",
    "  <li> Page 5: Tips for Running Locally\n",
    "  <li> Page 6: Helper Page for Button\n",
    "</span>"
   ]
  },
  {
   "cell_type": "markdown",
   "metadata": {
    "editable": false
   },
   "source": [
    "<!--\n",
    "%%ulab_page_divider\n",
    "--><hr/>"
   ]
  },
  {
   "cell_type": "markdown",
   "metadata": {
    "editable": false
   },
   "source": [
    "## What model to use\n",
    "\n",
    "It is up to you to decide on what model to use for the application. You need to find a model not already converted to Intermediate Representation format (i.e. not one of the Intel® Pre-Trained Models), convert it, and utilize the converted model in your application.\n",
    "\n",
    "Note that you may need to do additional processing of the output to handle incorrect detections, such as adjusting confidence threshold or accounting for 1-2 frames where the model fails to see a person already counted and would otherwise double count.\n",
    "\n",
    "**If you are otherwise unable to find a suitable model after attempting and successfully converting at least three other models**, you can document in your write-up what the models were, how you converted them, and why they failed, and then utilize any of the Intel® Pre-Trained Models that may perform better."
   ]
  },
  {
   "cell_type": "markdown",
   "metadata": {
    "editable": false
   },
   "source": [
    "<span style=\"color:blue\">\n",
    "<strong>Table of Contents</strong>\n",
    "  <li> Page 1: Overview and Requirements\n",
    "  <li> Page 2: Setup Instructions\n",
    "  <li> Page 3: What Model to Use\n",
    "  <li> Page 4: Running Your Code\n",
    "  <li> Page 5: Tips for Running Locally\n",
    "  <li> Page 6: Helper Page for Button\n",
    "</span>"
   ]
  },
  {
   "cell_type": "markdown",
   "metadata": {
    "editable": false
   },
   "source": [
    "<!--\n",
    "%%ulab_page_divider\n",
    "--><hr/>"
   ]
  },
  {
   "cell_type": "markdown",
   "metadata": {
    "editable": false,
    "ulab": {
     "buttons": {
      "ulab-button-3be1e29c": {
       "bashCommand": "pip install requests pyyaml -t /usr/local/lib/python3.5/dist-packages && clear && source /opt/intel/openvino/bin/setupvars.sh -pyver 3.5",
       "filesToOpen": [],
       "isPreviewButton": false,
       "runInBackground": false,
       "style": "primary",
       "text": "SOURCE ENV",
       "toggleOffText": "HIDE SOLUTION",
       "toggleOnText": "SHOW SOLUTION"
      }
     }
    }
   },
   "source": [
    "## Run the application\n",
    "\n",
    "You can use the button to source the environment in the initial terminal, although any new terminals using the toolkit will need the command as detailed in Step 4 below.\n",
    "\n",
    "<button id=\"ulab-button-3be1e29c\" class=\"ulab-btn--primary\"></button>"
   ]
  },
  {
   "cell_type": "markdown",
   "metadata": {
    "editable": false,
    "ulab": {
     "buttons": {
      "ulab-button-c7ebc45c": {
       "bashCommand": "",
       "filesToOpen": [],
       "isPreviewButton": true,
       "runInBackground": false,
       "style": "primary",
       "text": "OPEN APP",
       "toggleOffText": "HIDE SOLUTION",
       "toggleOnText": "SHOW SOLUTION"
      }
     }
    }
   },
   "source": [
    "From the main directory:\n",
    "\n",
    "### Step 1 - Start the Mosca server\n",
    "\n",
    "```\n",
    "cd webservice/server/node-server\n",
    "node ./server.js\n",
    "```\n",
    "\n",
    "You should see the following message, if successful:\n",
    "```\n",
    "Mosca server started.\n",
    "```\n",
    "\n",
    "### Step 2 - Start the GUI\n",
    "\n",
    "Open new terminal and run below commands.\n",
    "```\n",
    "cd webservice/ui\n",
    "npm run dev\n",
    "```\n",
    "\n",
    "You should see the following message in the terminal.\n",
    "```\n",
    "webpack: Compiled successfully\n",
    "```\n",
    "\n",
    "### Step 3 - FFmpeg Server\n",
    "\n",
    "Open new terminal and run the below commands.\n",
    "```\n",
    "sudo ffserver -f ./ffmpeg/server.conf\n",
    "```\n",
    "\n",
    "### Step 4 - Run the code\n",
    "\n",
    "Open a new terminal to run the code. \n",
    "\n",
    "#### Setup the environment\n",
    "\n",
    "You must configure the environment to use the Intel® Distribution of OpenVINO™ toolkit one time per session by running the following command:\n",
    "```\n",
    "source /opt/intel/openvino/bin/setupvars.sh -pyver 3.5\n",
    "```\n",
    "\n",
    "You should also be able to run the application with Python 3.6, although newer versions of Python will not work with the app.\n",
    "\n",
    "#### Running on the CPU\n",
    "\n",
    "When running Intel® Distribution of OpenVINO™ toolkit Python applications on the CPU, the CPU extension library is required. This can be found at: \n",
    "\n",
    "```\n",
    "/opt/intel/openvino/deployment_tools/inference_engine/lib/intel64/\n",
    "```\n",
    "\n",
    "*Depending on whether you are using Linux or Mac, the filename will be either `libcpu_extension_sse4.so` or `libcpu_extension.dylib`, respectively.* (The Linux filename may be different if you are using a AVX architecture)\n",
    "\n",
    "Though by default application runs on CPU, this can also be explicitly specified by ```-d CPU``` command-line argument:\n",
    "\n",
    "```\n",
    "python main.py -i resources/Pedestrian_Detect_2_1_1.mp4 -m your-model.xml -l /opt/intel/openvino/deployment_tools/inference_engine/lib/intel64/libcpu_extension_sse4.so -d CPU -pt 0.6 | ffmpeg -v warning -f rawvideo -pixel_format bgr24 -video_size 768x432 -framerate 24 -i - http://0.0.0.0:3004/fac.ffm\n",
    "```\n",
    "If you are in the classroom workspace, use the “Open App” button to view the output. \n",
    "\n",
    "<button id=\"ulab-button-c7ebc45c\" class=\"ulab-btn--primary\"></button>\n",
    "\n",
    "If working locally, to see the output on a web based interface, open the link [http://0.0.0.0:3004](http://0.0.0.0:3004/) in a browser.\n",
    "\n",
    "#### Running on the Intel® Neural Compute Stick\n",
    "\n",
    "**<span style=\"color:red\">Not available in Udacity workspace.</span>**\n",
    "\n",
    "To run on the Intel® Neural Compute Stick, use the ```-d MYRIAD``` command-line argument:\n",
    "\n",
    "```\n",
    "python3.5 main.py -d MYRIAD -i resources/Pedestrian_Detect_2_1_1.mp4 -m your-model.xml -pt 0.6 | ffmpeg -v warning -f rawvideo -pixel_format bgr24 -video_size 768x432 -framerate 24 -i - http://0.0.0.0:3004/fac.ffm\n",
    "```\n",
    "\n",
    "To see the output on a web based interface, open the link [http://0.0.0.0:3004](http://0.0.0.0:3004/) in a browser.\n",
    "\n",
    "**Note:** The Intel® Neural Compute Stick can only run FP16 models at this time. The model that is passed to the application, through the `-m <path_to_model>` command-line argument, must be of data type FP16.\n",
    "\n",
    "#### Using a camera stream instead of a video file\n",
    "\n",
    "To get the input video from the camera, use the `-i CAM` command-line argument. Specify the resolution of the camera using the `-video_size` command line argument.\n",
    "\n",
    "For example:\n",
    "```\n",
    "python main.py -i CAM -m your-model.xml -l /opt/intel/openvino/deployment_tools/inference_engine/lib/intel64/libcpu_extension_sse4.so -d CPU -pt 0.6 | ffmpeg -v warning -f rawvideo -pixel_format bgr24 -video_size 768x432 -framerate 24 -i - http://0.0.0.0:3004/fac.ffm\n",
    "```\n",
    "\n",
    "To see the output on a web based interface, open the link [http://0.0.0.0:3004](http://0.0.0.0:3004/) in a browser.\n",
    "\n",
    "**Note:**\n",
    "User has to give `-video_size` command line argument according to the input as it is used to specify the resolution of the video or image file."
   ]
  },
  {
   "cell_type": "markdown",
   "metadata": {
    "editable": false
   },
   "source": [
    "<span style=\"color:blue\">\n",
    "<strong>Table of Contents</strong>\n",
    "  <li> Page 1: Overview and Requirements\n",
    "  <li> Page 2: Setup Instructions\n",
    "  <li> Page 3: What Model to Use\n",
    "  <li> Page 4: Running Your Code\n",
    "  <li> Page 5: Tips for Running Locally\n",
    "  <li> Page 6: Helper Page for Button\n",
    "</span>"
   ]
  },
  {
   "cell_type": "markdown",
   "metadata": {
    "editable": false
   },
   "source": [
    "<!--\n",
    "%%ulab_page_divider\n",
    "--><hr/>"
   ]
  },
  {
   "cell_type": "markdown",
   "metadata": {
    "editable": false
   },
   "source": [
    "## A Note on Running Locally\n",
    "\n",
    "The servers herein are configured to utilize the Udacity classroom workspace. As such,\n",
    "to run on your local machine, you will need to change the below file:\n",
    "\n",
    "```\n",
    "webservice/ui/src/constants/constants.js\n",
    "```\n",
    "\n",
    "The `CAMERA_FEED_SERVER` and `MQTT_SERVER` both use the workspace configuration. \n",
    "You can change each of these as follows:\n",
    "\n",
    "```\n",
    "CAMERA_FEED_SERVER: \"http://localhost:3004\"\n",
    "...\n",
    "MQTT_SERVER: \"ws://localhost:3002\"\n",
    "```"
   ]
  },
  {
   "cell_type": "markdown",
   "metadata": {
    "editable": false
   },
   "source": [
    "<span style=\"color:blue\">\n",
    "<strong>Table of Contents</strong>\n",
    "  <li> Page 1: Overview and Requirements\n",
    "  <li> Page 2: Setup Instructions\n",
    "  <li> Page 3: What Model to Use\n",
    "  <li> Page 4: Running Your Code\n",
    "  <li> Page 5: Tips for Running Locally\n",
    "  <li> Page 6: Helper Page for Buttons\n",
    "</span>"
   ]
  },
  {
   "cell_type": "markdown",
   "metadata": {
    "editable": false
   },
   "source": [
    "<!--\n",
    "%%ulab_page_divider\n",
    "--><hr/>"
   ]
  },
  {
   "cell_type": "markdown",
   "metadata": {
    "editable": false,
    "ulab": {
     "buttons": {
      "ulab-button-2174bf4d": {
       "bashCommand": "",
       "filesToOpen": [],
       "isPreviewButton": true,
       "runInBackground": false,
       "style": "primary",
       "text": "OPEN APP",
       "toggleOffText": "HIDE SOLUTION",
       "toggleOnText": "SHOW SOLUTION"
      },
      "ulab-button-5e98247e": {
       "bashCommand": "pip install requests pyyaml -t /usr/local/lib/python3.5/dist-packages && clear && source /opt/intel/openvino/bin/setupvars.sh -pyver 3.5",
       "filesToOpen": [],
       "isPreviewButton": false,
       "runInBackground": false,
       "style": "primary",
       "text": "SOURCE ENV",
       "toggleOffText": "HIDE SOLUTION",
       "toggleOnText": "SHOW SOLUTION"
      }
     }
    }
   },
   "source": [
    "## Helper Page: Source Environment & Open App\n",
    "\n",
    "As a helper to consolidate location of the buttons, find below buttons to source the environment and open the app in the preview window (assuming your app is running).\n",
    "\n",
    "<button id=\"ulab-button-5e98247e\" class=\"ulab-btn--primary\"></button>\n",
    "\n",
    "The `SOURCE ENV` button only works on the initial terminal; you can also source the environment with the below command:\n",
    "\n",
    "```\n",
    "source /opt/intel/openvino/bin/setupvars.sh -pyver 3.5\n",
    "```\n",
    "\n",
    "<button id=\"ulab-button-2174bf4d\" class=\"ulab-btn--primary\"></button>"
   ]
  }
 ],
 "metadata": {
  "kernelspec": {
   "display_name": "Python 3",
   "language": "python",
   "name": "python3"
  },
  "language_info": {
   "codemirror_mode": {
    "name": "ipython",
    "version": 3
   },
   "file_extension": ".py",
   "mimetype": "text/x-python",
   "name": "python",
   "nbconvert_exporter": "python",
   "pygments_lexer": "ipython3",
   "version": "3.6.3"
  },
  "ulab_nb_type": "guided"
 },
 "nbformat": 4,
 "nbformat_minor": 4
}
